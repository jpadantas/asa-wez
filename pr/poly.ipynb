{
 "cells": [
  {
   "cell_type": "markdown",
   "metadata": {},
   "source": [
    "# Polynomial Regression"
   ]
  },
  {
   "cell_type": "code",
   "execution_count": 7,
   "metadata": {},
   "outputs": [],
   "source": [
    "import pandas as pd\n",
    "import xgboost as xgb\n",
    "from sklearn.model_selection import train_test_split, RandomizedSearchCV, cross_val_score, cross_validate, RepeatedKFold\n",
    "import numpy as np\n",
    "from numpy import sqrt\n",
    "import time\n",
    "from sklearn.metrics import mean_squared_error,mean_absolute_error,explained_variance_score,r2_score\n",
    "import joblib\n",
    "import os\n",
    "from sklearn.model_selection import KFold\n",
    "from sklearn.preprocessing import PolynomialFeatures\n",
    "from sklearn import linear_model"
   ]
  },
  {
   "cell_type": "code",
   "execution_count": 8,
   "metadata": {},
   "outputs": [],
   "source": [
    "df = pd.read_csv('../data/df_pkill.csv', delimiter = ',', header=0)"
   ]
  },
  {
   "cell_type": "code",
   "execution_count": 9,
   "metadata": {},
   "outputs": [],
   "source": [
    "samples_per_bin, bins = np.histogram(df['pkill'], bins='doane') # Doane's method\n",
    "df['bins'] = pd.DataFrame(np.digitize(df['pkill'], bins))\n",
    "X = df.drop(['pkill','bins'],axis=1)\n",
    "y = df[['pkill']]\n",
    "b = df['bins']"
   ]
  },
  {
   "cell_type": "markdown",
   "metadata": {},
   "source": [
    "### Train-test Split"
   ]
  },
  {
   "cell_type": "code",
   "execution_count": 10,
   "metadata": {},
   "outputs": [],
   "source": [
    "X_train, X_test, y_train, y_test = train_test_split(X, y.values, test_size=0.2, random_state=42, stratify=b)         "
   ]
  },
  {
   "cell_type": "markdown",
   "metadata": {},
   "source": [
    "### Hyperparameters"
   ]
  },
  {
   "cell_type": "code",
   "execution_count": 11,
   "metadata": {},
   "outputs": [],
   "source": [
    "degree_list = np.arange(4,5)"
   ]
  },
  {
   "cell_type": "markdown",
   "metadata": {},
   "source": [
    "### Training Process"
   ]
  },
  {
   "cell_type": "code",
   "execution_count": null,
   "metadata": {},
   "outputs": [
    {
     "name": "stdout",
     "output_type": "stream",
     "text": [
      "------------------------------------------------------------------------\n",
      "Training degree 4\n",
      "Degree: 4, Features: 1001\n",
      "------------------------------------------------------------------------\n",
      "Training for fold 1 ...\n"
     ]
    }
   ],
   "source": [
    "for degree in degree_list:\n",
    "    print('------------------------------------------------------------------------')\n",
    "    print(f'Training degree {degree}')\n",
    "\n",
    "    poly = PolynomialFeatures(degree=degree)\n",
    "    X_train_poly = poly.fit_transform(X_train)\n",
    "    \n",
    "    print('Degree: %d, Features: %d' % (degree, X_train_poly.shape[1]))    \n",
    "    \n",
    "    metrics = pd.DataFrame(columns=['fold', 'mae', 'mse', 'rmse', 'r2', 'training_time', 'inference_time'])\n",
    "\n",
    "    # Define the K-fold Cross Validator\n",
    "    kfold = KFold(n_splits=5, shuffle=True)\n",
    "\n",
    "    # K-fold Cross Validation model evaluation\n",
    "    fold_no = 1\n",
    "    \n",
    "    # Training\n",
    "    for train, val in kfold.split(X_train_poly, y_train):\n",
    "        # Define the model as the best model from the random search\n",
    "        model = linear_model.LinearRegression(n_jobs=-1)\n",
    "\n",
    "        # Generate a print\n",
    "        print('------------------------------------------------------------------------')\n",
    "        print(f'Training for fold {fold_no} ...')\n",
    "\n",
    "        # get the start time\n",
    "        st_wall = time.time()\n",
    "\n",
    "        # Fit data to model\n",
    "        model.fit(X_train_poly[train], y_train[train])\n",
    "\n",
    "        # get the end time\n",
    "        et_wall = time.time()\n",
    "\n",
    "        # get execution time\n",
    "        wall_time = et_wall - st_wall\n",
    "\n",
    "        print('Training Execution time:', wall_time, 'seconds')\n",
    "\n",
    "        # get the start time\n",
    "        st_wall_inf = time.time()\n",
    "\n",
    "        # Generate generalization metrics\n",
    "        y_pred = model.predict(poly.fit_transform(X_test))\n",
    "\n",
    "        # get the end time\n",
    "        et_wall_inf = time.time()\n",
    "\n",
    "        # get execution time\n",
    "        wall_time_inf = et_wall_inf - st_wall_inf\n",
    "\n",
    "        print('Inference Execution time:', wall_time_inf, 'seconds')\n",
    "\n",
    "        scores = [fold_no, mean_absolute_error(y_test, y_pred), mean_squared_error(y_test, y_pred), \n",
    "                  sqrt(mean_squared_error(y_test, y_pred)), r2_score(y_test, y_pred), wall_time, wall_time_inf]\n",
    "\n",
    "        metrics.loc[len(metrics)] = scores\n",
    "\n",
    "        # Increase fold number\n",
    "        fold_no = fold_no + 1\n",
    "\n",
    "\n",
    "    metrics.loc[len(metrics)] = ['mean', metrics['mae'].mean(), metrics['mse'].mean(), metrics['rmse'].mean(), metrics['r2'].mean(), metrics['training_time'].mean(), metrics['inference_time'].mean()]\n",
    "    metrics.loc[len(metrics)] = ['std', metrics['mae'].iloc[:-1].std(), metrics['mse'].iloc[:-1].std(), metrics['rmse'].iloc[:-1].std(), metrics['r2'].iloc[:-1].std(), metrics['training_time'].iloc[:-1].std(), metrics['inference_time'].iloc[:-1].std()]  \n",
    "    metrics.loc[len(metrics)] = ['sum', metrics['mae'].iloc[:-2].sum(), metrics['mse'].iloc[:-2].sum(), metrics['rmse'].iloc[:-2].sum(), metrics['r2'].iloc[:-2].sum(), metrics['training_time'].iloc[:-2].sum(), metrics['inference_time'].iloc[:-2].sum()]\n",
    "    metrics = metrics.set_index('fold')\n",
    "\n",
    "    path_to_save = f'./results/'\n",
    "\n",
    "    if not os.path.exists(path_to_save):\n",
    "        os.makedirs(path_to_save)\n",
    "\n",
    "    metrics.to_csv(f'{path_to_save}{degree}_degree.csv')\n",
    "\n",
    "    path_to_save = f'./models/'\n",
    "\n",
    "    if not os.path.exists(path_to_save):\n",
    "        os.makedirs(path_to_save)\n",
    "    # save model to file\n",
    "    joblib.dump(model, f'{path_to_save}{degree}_degree.sav');"
   ]
  },
  {
   "cell_type": "code",
   "execution_count": null,
   "metadata": {},
   "outputs": [],
   "source": []
  }
 ],
 "metadata": {
  "kernelspec": {
   "display_name": "Python 3 (ipykernel)",
   "language": "python",
   "name": "python3"
  },
  "language_info": {
   "codemirror_mode": {
    "name": "ipython",
    "version": 3
   },
   "file_extension": ".py",
   "mimetype": "text/x-python",
   "name": "python",
   "nbconvert_exporter": "python",
   "pygments_lexer": "ipython3",
   "version": "3.9.10"
  }
 },
 "nbformat": 4,
 "nbformat_minor": 4
}
